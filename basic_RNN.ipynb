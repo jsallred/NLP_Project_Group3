{
 "cells": [
  {
   "cell_type": "code",
   "execution_count": 100,
   "id": "733893be",
   "metadata": {},
   "outputs": [],
   "source": [
    "# necessary imports \n",
    "\n",
    "import pandas as pd\n",
    "import numpy as np\n",
    "import torch\n",
    "from torch.utils.data import DataLoader, Dataset\n",
    "from sklearn.model_selection import train_test_split\n",
    "from sklearn.preprocessing import LabelEncoder\n",
    "from torch import nn\n",
    "import torch.optim as optim\n",
    "from torch.nn.utils.rnn import pad_sequence\n",
    "from nltk.corpus import stopwords\n",
    "import re\n",
    "from sklearn.metrics import classification_report, confusion_matrix\n",
    "import matplotlib.pyplot as plt\n",
    "import seaborn as sns"
   ]
  },
  {
   "cell_type": "code",
   "execution_count": 101,
   "id": "ca452c03",
   "metadata": {},
   "outputs": [],
   "source": [
    "# import stop words \n",
    "stop_words = set(stopwords.words('english'))"
   ]
  },
  {
   "cell_type": "code",
   "execution_count": 102,
   "id": "9be87cad",
   "metadata": {},
   "outputs": [],
   "source": [
    "file_path = \"scraped_data/BABE_scraped.csv\" # path to babe dataset\n",
    "data = pd.read_csv(file_path)"
   ]
  },
  {
   "cell_type": "code",
   "execution_count": 103,
   "id": "b3c1f171",
   "metadata": {},
   "outputs": [],
   "source": [
    "def preprocess(text): \n",
    "    text = text.lower() # to lower case \n",
    "    text = re.sub(r'http\\S+', '', text) # remove URLs\n",
    "    text = re.sub(r'[^a-zA-Z\\s]', '', text) # remove non-alphabetical characters\n",
    "    text = ' '.join([word for word in text.split() if word not in stop_words]) # remove stopwords \n",
    "    \n",
    "    return text\n",
    "\n",
    "data['content'] = data['content'].fillna('') # remove missing values \n",
    "data['content'] = data['content'].apply(preprocess) # apply preprocess function\n",
    "\n",
    "\n",
    "# train, val, test split\n",
    "train_data, remaining_data = train_test_split(data, test_size=0.3, random_state=42)\n",
    "validation_data, test_data = train_test_split(remaining_data, test_size=0.5, random_state=42)"
   ]
  },
  {
   "cell_type": "code",
   "execution_count": 104,
   "id": "d4087420",
   "metadata": {},
   "outputs": [
    {
     "name": "stdout",
     "output_type": "stream",
     "text": [
      "Loaded 400000 words from GloVe.\n"
     ]
    }
   ],
   "source": [
    "# load the GloVe embeddings\n",
    "\n",
    "# *** Change the 'glove_file' to your proper file path! ***\n",
    "glove_file = \"../Homeworks/HW2_Language_Models_Neural_Networks/glove/glove.6B.50d.txt\"\n",
    "\n",
    "embeddings_dict = {}\n",
    "with open(glove_file, 'r', encoding='utf8') as f:\n",
    "    for line in f:\n",
    "        values = line.split()\n",
    "        word = values[0]\n",
    "        vector = np.asarray(values[1:], dtype='float32')\n",
    "        embeddings_dict[word] = vector\n",
    "\n",
    "print(f'Loaded {len(embeddings_dict)} words from GloVe.')\n",
    "\n",
    "vocab_size = len(embeddings_dict) + 1\n",
    "embedding_dim = 50\n",
    "embedding_matrix = np.zeros((vocab_size, embedding_dim))\n",
    "\n",
    "word2id = {'<pad>': 0}\n",
    "for i, (word, vector) in enumerate(embeddings_dict.items(), 1):\n",
    "    embedding_matrix[i] = vector\n",
    "    word2id[word] = i\n",
    "    "
   ]
  },
  {
   "cell_type": "code",
   "execution_count": 105,
   "id": "c647570f",
   "metadata": {},
   "outputs": [],
   "source": [
    "from torch.utils.data import DataLoader, Dataset\n",
    "import torch\n",
    "\n",
    "def encode_text(text, word2id):\n",
    "    return [word2id.get(word, word2id['<pad>']) for word in text.split()]\n",
    "\n",
    "class NewsDataset(Dataset):\n",
    "    def __init__(self, data, word2id):\n",
    "        self.data = data\n",
    "        self.word2id = word2id\n",
    "\n",
    "    def __len__(self):\n",
    "        return len(self.data)\n",
    "\n",
    "    def __getitem__(self, idx):\n",
    "        text = self.data.iloc[idx]['content']\n",
    "        label = self.data.iloc[idx]['type_class']\n",
    "        encoded_text = encode_text(text, self.word2id)\n",
    "        return torch.tensor(encoded_text, dtype=torch.long), torch.tensor(label, dtype=torch.long)\n",
    "\n",
    "def collate_batch(batch):\n",
    "    label_list, text_list = [], []\n",
    "    for _text, _label in batch:\n",
    "        label_list.append(_label)\n",
    "        text_list.append(_text)\n",
    "    text_list = pad_sequence(text_list, batch_first=True, padding_value=0)\n",
    "    labels = torch.tensor(label_list, dtype=torch.long)\n",
    "    return text_list, labels\n",
    "\n",
    "# creating our datasets and data loaders\n",
    "train_dataset = NewsDataset(train_data, word2id)\n",
    "val_dataset = NewsDataset(validation_data, word2id)\n",
    "test_dataset = NewsDataset(test_data, word2id)\n",
    "\n",
    "train_loader = DataLoader(train_dataset, batch_size=8, shuffle=True, collate_fn=collate_batch)\n",
    "val_loader = DataLoader(val_dataset, batch_size=8, shuffle=False, collate_fn=collate_batch)\n",
    "test_loader = DataLoader(test_dataset, batch_size=8, shuffle=False, collate_fn=collate_batch)"
   ]
  },
  {
   "cell_type": "code",
   "execution_count": 106,
   "id": "37e31970",
   "metadata": {},
   "outputs": [],
   "source": [
    "class SimpleRNN(nn.Module):\n",
    "    def __init__(self, vocab_size, embedding_dim, hidden_dim, output_dim, pretrained_embeddings):\n",
    "        super(SimpleRNN, self).__init__()\n",
    "        self.embedding = nn.Embedding(vocab_size, embedding_dim)\n",
    "        self.embedding.weight.data.copy_(torch.from_numpy(pretrained_embeddings))\n",
    "        self.embedding.weight.requires_grad = False  # We do not train the embedding layer\n",
    "        self.rnn = nn.RNN(embedding_dim, hidden_dim, batch_first=True)\n",
    "        self.fc = nn.Linear(hidden_dim, output_dim)\n",
    "\n",
    "    def forward(self, x):\n",
    "        x = self.embedding(x) # embedding layer using GloVe\n",
    "        h0 = torch.zeros(1, x.size(0), self.rnn.hidden_size).to(x.device) # initial hidden state\n",
    "        out, _ = self.rnn(x, h0) # forward prop\n",
    "        out = self.fc(out[:, -1, :]) # pass output of last timestep \n",
    "        \n",
    "        return out\n"
   ]
  },
  {
   "cell_type": "code",
   "execution_count": 107,
   "id": "b243129d",
   "metadata": {},
   "outputs": [
    {
     "name": "stdout",
     "output_type": "stream",
     "text": [
      "Epoch [1/10], Training Loss: 1.0440, Validation Loss: 0.9734\n",
      "Epoch [2/10], Training Loss: 0.6580, Validation Loss: 0.9472\n",
      "Epoch [3/10], Training Loss: 0.8133, Validation Loss: 0.9880\n",
      "Epoch [4/10], Training Loss: 0.8786, Validation Loss: 1.0840\n",
      "Epoch [5/10], Training Loss: 0.5643, Validation Loss: 1.0496\n",
      "Epoch [6/10], Training Loss: 0.8096, Validation Loss: 1.0043\n",
      "Epoch [7/10], Training Loss: 1.0281, Validation Loss: 0.9952\n",
      "Epoch [8/10], Training Loss: 0.8391, Validation Loss: 0.9555\n",
      "Epoch [9/10], Training Loss: 0.9832, Validation Loss: 1.0021\n",
      "Epoch [10/10], Training Loss: 0.8202, Validation Loss: 0.9584\n"
     ]
    }
   ],
   "source": [
    "model = SimpleRNN(vocab_size, embedding_dim, hidden_dim=50, output_dim=3, pretrained_embeddings=embedding_matrix)\n",
    "criterion = nn.CrossEntropyLoss()\n",
    "optimizer = optim.Adam(filter(lambda p: p.requires_grad, model.parameters()), lr=0.01)\n",
    "\n",
    "# training loop\n",
    "num_epochs = 10\n",
    "for epoch in range(num_epochs):\n",
    "    model.train()\n",
    "    for texts, labels in train_loader:\n",
    "        outputs = model(texts)\n",
    "        loss = criterion(outputs, labels)\n",
    "        \n",
    "        optimizer.zero_grad()\n",
    "        loss.backward()\n",
    "        optimizer.step()\n",
    "\n",
    "    # validation loop\n",
    "    model.eval()\n",
    "    val_loss = 0\n",
    "    with torch.no_grad():\n",
    "        for texts, labels in val_loader:\n",
    "            outputs = model(texts)\n",
    "            val_loss += criterion(outputs, labels).item()\n",
    "\n",
    "    print(f'Epoch [{epoch+1}/{num_epochs}], Training Loss: {loss.item():.4f}, Validation Loss: {val_loss / len(val_loader):.4f}')\n"
   ]
  },
  {
   "cell_type": "code",
   "execution_count": 108,
   "id": "6160aa44",
   "metadata": {},
   "outputs": [
    {
     "name": "stdout",
     "output_type": "stream",
     "text": [
      "Accuracy of the model on the test set: 51.02040816326531%\n"
     ]
    }
   ],
   "source": [
    "model.eval()\n",
    "total = 0\n",
    "correct = 0\n",
    "with torch.no_grad():\n",
    "    for texts, labels in test_loader:\n",
    "        outputs = model(texts)\n",
    "        _, predicted = torch.max(outputs.data, 1)\n",
    "        total += labels.size(0)\n",
    "        correct += (predicted == labels).sum().item()\n",
    "\n",
    "print(f'Accuracy of the model on the test set: {100 * correct / total}%')"
   ]
  },
  {
   "cell_type": "code",
   "execution_count": 109,
   "id": "5d842246",
   "metadata": {},
   "outputs": [],
   "source": [
    "def get_all_predictions(model, data_loader):\n",
    "    model.eval()\n",
    "    all_predictions = []\n",
    "    all_labels = []\n",
    "\n",
    "    with torch.no_grad():\n",
    "        for texts, labels in data_loader:\n",
    "            outputs = model(texts)\n",
    "            _, predicted = torch.max(outputs, 1)\n",
    "            all_predictions.extend(predicted.cpu().numpy())\n",
    "            all_labels.extend(labels.cpu().numpy())\n",
    "\n",
    "    return all_predictions, all_labels\n",
    "\n",
    "predictions, true_labels = get_all_predictions(model, test_loader)"
   ]
  },
  {
   "cell_type": "code",
   "execution_count": 110,
   "id": "c5fd1b51",
   "metadata": {},
   "outputs": [
    {
     "name": "stdout",
     "output_type": "stream",
     "text": [
      "Classification Report:\n",
      "              precision    recall  f1-score   support\n",
      "\n",
      "        Left       0.62      0.58      0.60       141\n",
      "      Center       0.00      0.00      0.00        22\n",
      "       Right       0.38      0.52      0.44        82\n",
      "\n",
      "    accuracy                           0.51       245\n",
      "   macro avg       0.33      0.37      0.35       245\n",
      "weighted avg       0.48      0.51      0.49       245\n",
      "\n",
      "Confusion Matrix:\n"
     ]
    },
    {
     "name": "stderr",
     "output_type": "stream",
     "text": [
      "/Users/benlipman/opt/anaconda3/lib/python3.9/site-packages/sklearn/metrics/_classification.py:1248: UndefinedMetricWarning: Precision and F-score are ill-defined and being set to 0.0 in labels with no predicted samples. Use `zero_division` parameter to control this behavior.\n",
      "  _warn_prf(average, modifier, msg_start, len(result))\n",
      "/Users/benlipman/opt/anaconda3/lib/python3.9/site-packages/sklearn/metrics/_classification.py:1248: UndefinedMetricWarning: Precision and F-score are ill-defined and being set to 0.0 in labels with no predicted samples. Use `zero_division` parameter to control this behavior.\n",
      "  _warn_prf(average, modifier, msg_start, len(result))\n",
      "/Users/benlipman/opt/anaconda3/lib/python3.9/site-packages/sklearn/metrics/_classification.py:1248: UndefinedMetricWarning: Precision and F-score are ill-defined and being set to 0.0 in labels with no predicted samples. Use `zero_division` parameter to control this behavior.\n",
      "  _warn_prf(average, modifier, msg_start, len(result))\n"
     ]
    },
    {
     "data": {
      "image/png": "[encoded data removed]",
      "text/plain": [
       "<Figure size 720x504 with 2 Axes>"
      ]
     },
     "metadata": {
      "needs_background": "light"
     },
     "output_type": "display_data"
    }
   ],
   "source": [
    "print(\"Classification Report:\")\n",
    "print(classification_report(true_labels, predictions, target_names=['Left', 'Center', 'Right']))\n",
    "\n",
    "print(\"Confusion Matrix:\")\n",
    "cm = confusion_matrix(true_labels, predictions)\n",
    "plt.figure(figsize=(10, 7))\n",
    "sns.heatmap(cm, annot=True, fmt='g', cmap='Blues', xticklabels=['Left', 'Center', 'Right'], yticklabels=['Left', 'Center', 'Right'])\n",
    "plt.xlabel('Predicted labels')\n",
    "plt.ylabel('True labels')\n",
    "plt.title('Confusion Matrix')\n",
    "plt.show()"
   ]
  },
  {
   "cell_type": "code",
   "execution_count": null,
   "id": "c0d4b3f3",
   "metadata": {},
   "outputs": [],
   "source": []
  }
 ],
 "metadata": {
  "kernelspec": {
   "display_name": "Python 3 (ipykernel)",
   "language": "python",
   "name": "python3"
  },
  "language_info": {
   "codemirror_mode": {
    "name": "ipython",
    "version": 3
   },
   "file_extension": ".py",
   "mimetype": "text/x-python",
   "name": "python",
   "nbconvert_exporter": "python",
   "pygments_lexer": "ipython3",
   "version": "3.9.7"
  }
 },
 "nbformat": 4,
 "nbformat_minor": 5
}
