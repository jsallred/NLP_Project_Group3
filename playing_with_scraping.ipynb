{
 "cells": [
  {
   "cell_type": "code",
   "execution_count": 52,
   "id": "3e24c999",
   "metadata": {},
   "outputs": [],
   "source": [
    "import os \n",
    "import csv\n",
    "\n",
    "import requests \n",
    "from bs4 import BeautifulSoup\n",
    "from newspaper import Article"
   ]
  },
  {
   "cell_type": "code",
   "execution_count": 53,
   "id": "e4a52665",
   "metadata": {},
   "outputs": [],
   "source": [
    "def getArticleContent(url): \n",
    "    \n",
    "    res = requests.get(url)\n",
    "    \n",
    "    soup = BeautifulSoup(res.text, 'html.parser')\n",
    "    \n",
    "    # need to figure out how to abstractly find the 'body' of an article \n",
    "    body = soup.find('div', class_='main')\n",
    "    "
   ]
  },
  {
   "cell_type": "code",
   "execution_count": 58,
   "id": "09e0e661",
   "metadata": {},
   "outputs": [],
   "source": [
    "def getData(csv_file): \n",
    "    \n",
    "    rows = 0\n",
    "    with open(csv_file) as my_file: \n",
    "        \n",
    "        reader = csv.reader(my_file)\n",
    "        next(reader) # skip the header \n",
    "        \n",
    "        for row in reader: \n",
    "            # each row contains four links \n",
    "            # left article, center article, right article, and original page\n",
    "            # some links are missing\n",
    "            getArticleContent(row[1])\n",
    "            break\n",
    "        \n"
   ]
  },
  {
   "cell_type": "code",
   "execution_count": 59,
   "id": "9b258080",
   "metadata": {},
   "outputs": [
    {
     "name": "stdout",
     "output_type": "stream",
     "text": [
      "None\n"
     ]
    }
   ],
   "source": [
    "getData('Part1.csv')"
   ]
  }
 ],
 "metadata": {
  "kernelspec": {
   "display_name": "Python 3 (ipykernel)",
   "language": "python",
   "name": "python3"
  },
  "language_info": {
   "codemirror_mode": {
    "name": "ipython",
    "version": 3
   },
   "file_extension": ".py",
   "mimetype": "text/x-python",
   "name": "python",
   "nbconvert_exporter": "python",
   "pygments_lexer": "ipython3",
   "version": "3.9.7"
  }
 },
 "nbformat": 4,
 "nbformat_minor": 5
}
