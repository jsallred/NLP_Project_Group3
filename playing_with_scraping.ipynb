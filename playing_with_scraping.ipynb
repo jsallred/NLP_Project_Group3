{
 "cells": [
  {
   "cell_type": "code",
   "execution_count": 15,
   "id": "3e24c999",
   "metadata": {},
   "outputs": [],
   "source": [
    "import os \n",
    "import csv\n",
    "import pandas  as pd\n",
    "import numpy as np\n",
    "from datasets import load_dataset\n",
    "import requests \n",
    "from bs4 import BeautifulSoup\n",
    "from newspaper import Article, ArticleException\n",
    "from huggingface_hub import hf_hub_download\n",
    "import pandas as pd"
   ]
  },
  {
   "cell_type": "code",
   "execution_count": 53,
   "id": "e4a52665",
   "metadata": {},
   "outputs": [],
   "source": [
    "def getArticleContent(url): \n",
    "    \n",
    "    res = requests.get(url)\n",
    "    \n",
    "    soup = BeautifulSoup(res.text, 'html.parser')\n",
    "    \n",
    "    # need to figure out how to abstractly find the 'body' of an article \n",
    "    body = soup.find('div', class_='main')\n",
    "    "
   ]
  },
  {
   "cell_type": "code",
   "execution_count": 58,
   "id": "09e0e661",
   "metadata": {},
   "outputs": [],
   "source": [
    "def getData(csv_file): \n",
    "    \n",
    "    rows = 0\n",
    "    with open(csv_file) as my_file: \n",
    "        \n",
    "        reader = csv.reader(my_file)\n",
    "        next(reader) # skip the header \n",
    "        \n",
    "        for row in reader: \n",
    "            # each row contains four links \n",
    "            # left article, center article, right article, and original page\n",
    "            # some links are missing\n",
    "            getArticleContent(row[1])\n",
    "            break\n",
    "        \n"
   ]
  },
  {
   "cell_type": "code",
   "execution_count": 59,
   "id": "9b258080",
   "metadata": {},
   "outputs": [
    {
     "name": "stdout",
     "output_type": "stream",
     "text": [
      "None\n"
     ]
    }
   ],
   "source": [
    "getData('Part1.csv')"
   ]
  },
  {
   "cell_type": "code",
   "execution_count": 5,
   "id": "1275d301",
   "metadata": {},
   "outputs": [],
   "source": [
    "REPO_ID = \"valurank/PoliticalBias\"\n",
    "\n",
    "df1 = pd.read_csv(\n",
    "    hf_hub_download(repo_id=REPO_ID, filename='Part1.csv', repo_type=\"dataset\")\n",
    ")\n",
    "df1 = pd.DataFrame(df1)\n",
    "df2 = pd.read_csv(\n",
    "    hf_hub_download(repo_id=REPO_ID, filename='Part2.csv', repo_type=\"dataset\")\n",
    ")\n",
    "df2 = pd.DataFrame(df2)\n",
    "df = df1._append(df2)\n",
    "df = df.drop(columns='Main URL')\n",
    "df.to_csv('urls.csv')\n"
   ]
  },
  {
   "cell_type": "code",
   "execution_count": 41,
   "id": "e6347e0b",
   "metadata": {},
   "outputs": [],
   "source": [
    "for index, row in df.iterrows():\n",
    "    \n",
    "    # Iterate over items in the row\n",
    "    for column, value in row.items():\n",
    "        if value != np.nan:\n",
    "            try:\n",
    "                url = str(value)\n",
    "                article = Article(url)\n",
    "                article.download()\n",
    "                article.parse()\n",
    "            except ArticleException:\n",
    "                print('***FAILED TO DOWNLOAD***', url)"
   ]
  },
  {
   "cell_type": "code",
   "execution_count": 40,
   "id": "06b6c569",
   "metadata": {},
   "outputs": [],
   "source": [
    "REPO_ID = \"mediabiasgroup/BABE\"\n",
    "\n",
    "df1 = pd.read_csv(\n",
    "    hf_hub_download(repo_id=REPO_ID, filename='BABE.csv', repo_type=\"dataset\")\n",
    ")\n",
    "df1 = pd.DataFrame(df1)\n",
    "\n",
    "df1 = df1.dropna()\n",
    "\n",
    "df1.to_csv('urls_BABE.csv')\n"
   ]
  },
  {
   "cell_type": "code",
   "execution_count": 32,
   "id": "6735bcdd",
   "metadata": {},
   "outputs": [
    {
     "name": "stdout",
     "output_type": "stream",
     "text": [
      "***FAILED TO DOWNLOAD*** http://feedproxy.google.com/~r/breitbart/~3/KernUHEqyEk/\n",
      "***FAILED TO DOWNLOAD*** http://feedproxy.google.com/~r/breitbart/~3/hmjqwWAvPXQ/\n",
      "***FAILED TO DOWNLOAD*** https://www.reuters.com/article/us-usa-election-james/nba-star-lebron-james-emerges-as-potent-political-force-ahead-of-november-u-s-election-idUSKBN25O1B10\n",
      "***FAILED TO DOWNLOAD*** https://www.reuters.com/article/us-global-race-usa-wisconsin/arsonists-set-fires-as-wisconsin-city-rages-anew-over-police-shooting-of-black-man-idUSKBN25L0Q9?utm_medium=Social&utm_source=twitter\n",
      "***FAILED TO DOWNLOAD*** https://www.reuters.com/article/us-global-race-usa-los-angeles/l-a-sheriffs-deputies-fatally-shoot-black-man-after-suspected-bike-violation-idUSKBN25S606\n",
      "***FAILED TO DOWNLOAD*** http://feedproxy.google.com/~r/breitbart/~3/B0iqqthw_uw/\n",
      "***FAILED TO DOWNLOAD*** https://www.reuters.com/investigates/special-report/usa-police-rochester-shooting/\n",
      "***FAILED TO DOWNLOAD*** http://feedproxy.google.com/~r/breitbart/~3/fYtI9373tMY/\n",
      "***FAILED TO DOWNLOAD*** https://www.reuters.com/article/us-usa-election-convention-takeaways/five-takeaways-from-the-first-virtual-democratic-national-convention-idUSKCN25E07S\n",
      "***FAILED TO DOWNLOAD*** https://www.reuters.com/article/us-minneapolis-police-protests-factbox-idCAKBN2352VY?taid=5ed23930842569000110ba53&utm_campaign=trueAnthem%3A+Trending+Content&utm_medium=trueAnthem&utm_source=twitter\n",
      "***FAILED TO DOWNLOAD*** https://www.reuters.com/article/us-usa-abortion-ohio/appeals-court-says-ohio-may-withhold-planned-parenthood-funding-idUSKBN1QT23V?feedType=RSS&feedName=domesticNews\n",
      "***FAILED TO DOWNLOAD*** https://www.reuters.com/article/us-usa-healthcare-medicaid-new-hampshire/u-s-judge-blocks-medicaid-work-requirements-in-new-hampshire-idUSKCN1UO21R\n",
      "***FAILED TO DOWNLOAD*** https://www.reuters.com/article/us-usa-lgbt-transgender-trfn/calls-to-support-black-trans-women-rise-amid-u-s-protests-idUSKBN23F30A?rpc=401&\n",
      "***FAILED TO DOWNLOAD*** http://feeds.reuters.com/~r/Reuters/worldNews/~3/W6R1JElryi4/former-north-korean-diplomat-urges-missing-colleague-in-italy-to-go-to-south-korea-not-u-s-idUSKCN1OZ05R\n",
      "***FAILED TO DOWNLOAD*** https://www.reuters.com/article/us-minneapolis-police-protests-afghanist/afghan-artists-paint-mural-on-blast-wall-in-tribute-to-george-floyd-idUSKBN23I2NA\n",
      "***FAILED TO DOWNLOAD*** https://www.reuters.com/article/us-wisconsin-shooting/gunman-kills-five-co-workers-and-himself-in-molson-coors-brewery-shooting-in-milwaukee-idUSKCN20K37H?feedType=RSS&feedName=topNews\n",
      "***FAILED TO DOWNLOAD*** https://www.reuters.com/article/us-europe-migrants-malta-lifeline/malta-to-allow-migrant-rescue-ship-to-dock-ending-standoff-idUSKBN1JN1TJ\n",
      "***FAILED TO DOWNLOAD*** https://www.reuters.com/article/us-usa-election-mexico/no-more-bullying-fresh-start-to-u-s-mexico-relations-eyed-under-biden-idUSKBN27N0NN\n",
      "***FAILED TO DOWNLOAD*** https://www.reuters.com/article/us-election-warren-healthcare-exclusive/exclusive-economist-who-backed-warren-healthcare-plan-has-doubts-about-her-wealth-tax-idUSKBN1XI01T\n",
      "***FAILED TO DOWNLOAD*** https://www.reuters.com/article/global-race-usa-louisville/lawyer-for-breonna-taylors-family-calls-for-release-of-grand-jury-evidence-idINKCN26G2L2\n",
      "***FAILED TO DOWNLOAD*** https://www.reuters.com/article/us-election-warren-healthcare-exclusive/exclusive-economist-who-backed-warren-healthcare-plan-has-doubts-about-her-wealth-tax-idUSKBN1XI01T\n",
      "***FAILED TO DOWNLOAD*** https://www.reuters.com/article/us-health-cancer-asco/leading-oncology-group-wary-of-trump-drug-price-proposals-idUSKCN1IX3MP?utm_campaign=trueAnthem:+Trending+Content&utm_content=5b111b7f04d301069b81185d&utm_medium=trueAnthem&utm_source=twitter\n",
      "***FAILED TO DOWNLOAD*** https://www.reuters.com/article/us-global-race-protests-stone-mountain/right-wing-groups-clash-with-counter-protesters-in-several-u-s-states-idUSKCN25B116\n",
      "***FAILED TO DOWNLOAD*** https://www.reuters.com/article/us-global-race-protests-portland/suspect-in-portland-shooting-killed-by-police-during-arrest-idUSKBN25V0G0\n",
      "***FAILED TO DOWNLOAD*** https://www.reuters.com/article/us-usa-guns-sales/u-s-gun-sales-down-6-1-percent-in-2018-extending-trump-slump-idUSKCN1PN346?feedType=RSS&feedName=topNews\n",
      "***FAILED TO DOWNLOAD*** http://feedproxy.google.com/~r/breitbart/~3/YBYa1vPA6fg/\n",
      "***FAILED TO DOWNLOAD*** https://www.reuters.com/article/us-health-coronavirus-vaccine-poll-exclu/exclusive-a-quarter-of-americans-are-hesitant-about-a-coronavirus-vaccine-reuters-ipsos-poll-idUSKBN22X19G\n",
      "***FAILED TO DOWNLOAD*** https://www.reuters.com/article/us-usa-trump-congress-taxes/house-democrat-says-current-congress-may-not-see-trump-taxes-idUSKCN1TG0ME?feedType=RSS&feedName=topNews\n",
      "***FAILED TO DOWNLOAD*** https://www.reuters.com/article/us-india-pollution/toxic-smog-shrouds-indian-capital-as-pollution-soars-government-measures-fail-idUSKCN1OX0K9\n",
      "***FAILED TO DOWNLOAD*** https://www.reuters.com/article/us-global-race-protests-portland-activis/in-portland-some-black-activists-frustrated-with-white-protesters-idUSKCN24W2QD?il=0\n",
      "***FAILED TO DOWNLOAD*** https://www.reuters.com/article/usa-guns-fbi/spiking-us-gun-sales-deluge-fbis-background-check-system-cause-delays-idUSL8N2GB5RA\n",
      "***FAILED TO DOWNLOAD*** https://www.reuters.com/article/uk-minneapolis-police-protests-truck-idUKKBN2370VO?taid=5ed4ccf1842569000110c1cc&utm_campaign=trueAnthem:+Trending+Content&utm_medium=trueAnthem&utm_source=twitter\n",
      "***FAILED TO DOWNLOAD*** https://www.reuters.com/article/us-global-race-ghana-artist-idUSKBN2441D5?taid=5effd946795f4d0001584223&utm_campaign=trueAnthem:+Trending+Content&utm_medium=trueAnthem&utm_source=twitter\n",
      "***FAILED TO DOWNLOAD*** https://www.reuters.com/article/us-california-transgender-idUSKBN14R01Q\n",
      "***FAILED TO DOWNLOAD*** https://www.reuters.com/article/us-usa-election-debate-healthcare/healthcare-tangles-in-democratic-white-house-race-could-carry-risk-in-2020-polls-show-idUSKBN1XU16M?feedType=RSS&feedName=topNews\n",
      "***FAILED TO DOWNLOAD*** https://www.reuters.com/article/us-usa-politics-guns/u-s-gun-control-advocacy-group-to-spend-8-million-on-texas-political-campaigns-idUSKBN20D2NX\n",
      "***FAILED TO DOWNLOAD*** https://www.reuters.com/article/health-coronavirus-usa-china-idUSL1N2CI20B\n",
      "***FAILED TO DOWNLOAD*** https://www.reuters.com/article/us-usa-election-guns-stocks/shares-of-gun-makers-gain-as-bidens-lead-grows-idUSKBN2711KD\n",
      "***FAILED TO DOWNLOAD*** https://www.alternet.org/2019/04/of-course-a-woman-can-beat-trump/\n",
      "***FAILED TO DOWNLOAD*** http://feedproxy.google.com/~r/breitbart/~3/CQerZIG3-XI/\n",
      "***FAILED TO DOWNLOAD*** http://feedproxy.google.com/~r/breitbart/~3/2517Un1whOE/\n",
      "                                                  url  \\\n",
      "0   https://www.foxnews.com/entertainment/australi...   \n",
      "1   https://www.alternet.org/2020/06/law-and-order...   \n",
      "2   https://www.nbcnews.com/news/latino/after-step...   \n",
      "3   https://www.alternet.org/2019/07/fox-news-has-...   \n",
      "4   https://www.alternet.org/2019/08/a-new-low-was...   \n",
      "5   https://www.alternet.org/2020/07/gangster-capi...   \n",
      "6   https://feeds.feedblitz.com/~/629983109/0/alte...   \n",
      "7   https://www.breitbart.com/europe/2020/06/01/23...   \n",
      "8   https://www.foxnews.com/sports/olympic-swimmin...   \n",
      "9   https://eu.usatoday.com/story/news/2019/01/02/...   \n",
      "10  https://www.alternet.org/2020/01/70-percent-of...   \n",
      "11  https://www.nbcnews.com/feature/nbc-out/iowa-r...   \n",
      "12  https://feeds.feedblitz.com/~/632383174/0/alte...   \n",
      "13       https://www.alternet.org/2020/12/proud-boys/   \n",
      "14  https://www.alternet.org/2020/06/republicans-a...   \n",
      "15  https://www.nbcnews.com/news/us-news/priest-rh...   \n",
      "16  https://www.nbcnews.com/tech/social-media/cons...   \n",
      "17  https://www.breitbart.com/news/judge-rules-aga...   \n",
      "18  https://www.alternet.org/2020/02/judge-reverse...   \n",
      "19  https://www.nbcnews.com/news/us-news/federal-j...   \n",
      "\n",
      "                                              content type_class  \n",
      "0   \"Orange Is the New Black\" star Yael Stone is r...      right  \n",
      "1   Mark Twain's instruction to curious residents ...       left  \n",
      "2   It wasn't the content of White House adviser S...       left  \n",
      "3   Donald Trump thinks white nationalism is going...       left  \n",
      "4   On Saturday, August 3, El Paso became the scen...       left  \n",
      "5   Time is broken in Donald Trump’s America. Minu...       left  \n",
      "6   With the presidential election less than four ...       left  \n",
      "7   23 people were arrested for offences including...      right  \n",
      "8   Chinese swimmer Sun Yang was banned for eight ...      right  \n",
      "9   SAN FRANCISCO – A 60-foot chunk of the Ocean C...     center  \n",
      "10  A 70% majority of Americans view the economy a...       left  \n",
      "11  DES MOINES, Iowa — A bill proposed by a group ...       left  \n",
      "12  The U.S. Navy is investigating the circumstanc...       left  \n",
      "13  A Black policewoman was injured and at least f...       left  \n",
      "14  A bold statement Wednesday from former Secreta...       left  \n",
      "15  A Catholic priest in Rhode Island who barred s...       left  \n",
      "16  Protests against state stay-at-home orders hav...       left  \n",
      "17  Los Angeles (AFP) – A federal judge dismissed ...      right  \n",
      "18  A federal judge in Tucson, Arizona delivered a...       left  \n",
      "19  A federal judge on Wednesday temporarily block...       left  \n"
     ]
    }
   ],
   "source": [
    "df_scraped = pd.DataFrame(columns=['url', 'content', 'type_class'])\n",
    "x = 0\n",
    "for index, row in df1.iterrows():\n",
    "    if(x == 100):\n",
    "        break\n",
    "    # Iterate over items in the row\n",
    "    url = row['news_link']\n",
    "    url = str(url)\n",
    "    type_class = row['type']\n",
    "    if url != np.nan:\n",
    "        try:\n",
    "            article = Article(url)\n",
    "            article.download()\n",
    "            article.parse()\n",
    "            df_scraped = df_scraped._append({'url': url, 'content': article.text, 'type_class': type_class}, ignore_index=True)\n",
    "            \n",
    "        except ArticleException:\n",
    "                print('***FAILED TO DOWNLOAD***', url)\n",
    "    x +=1\n",
    "    \n",
    "print(df_scraped.head(20))"
   ]
  },
  {
   "cell_type": "code",
   "execution_count": 37,
   "id": "7f832002",
   "metadata": {},
   "outputs": [],
   "source": [
    "def relable_class(row):\n",
    "    if row['type_class'] == 'left':\n",
    "        return 0\n",
    "    elif row['type_class'] == 'center':\n",
    "        return 1\n",
    "    elif row['type_class'] == 'right':\n",
    "        return 2\n",
    "    else:\n",
    "        return row['type_class']  # Return the original value if not one of the specified types\n"
   ]
  },
  {
   "cell_type": "code",
   "execution_count": 39,
   "id": "7b5497f5",
   "metadata": {},
   "outputs": [
    {
     "name": "stdout",
     "output_type": "stream",
     "text": [
      "type_class\n",
      "0    30\n",
      "2    24\n",
      "1     5\n",
      "Name: count, dtype: int64\n"
     ]
    }
   ],
   "source": [
    "df_scraped['type_class'] = df_scraped.apply(relable_class, axis=1)\n",
    "df_scraped.to_csv('BABE_scraped.csv')\n",
    "type_counts = df_scraped['type_class'].value_counts() # eval number of each type_class\n",
    "print(type_counts)"
   ]
  }
 ],
 "metadata": {
  "kernelspec": {
   "display_name": "Python 3 (ipykernel)",
   "language": "python",
   "name": "python3"
  },
  "language_info": {
   "codemirror_mode": {
    "name": "ipython",
    "version": 3
   },
   "file_extension": ".py",
   "mimetype": "text/x-python",
   "name": "python",
   "nbconvert_exporter": "python",
   "pygments_lexer": "ipython3",
   "version": "3.12.0"
  }
 },
 "nbformat": 4,
 "nbformat_minor": 5
}
